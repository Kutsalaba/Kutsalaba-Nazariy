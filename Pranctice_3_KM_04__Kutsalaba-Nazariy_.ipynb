{
  "nbformat": 4,
  "nbformat_minor": 0,
  "metadata": {
    "colab": {
      "name": "Pranctice_3_KM-01_<name>.ipynb",
      "provenance": [],
      "collapsed_sections": []
    },
    "kernelspec": {
      "name": "python3",
      "display_name": "Python 3"
    }
  },
  "cells": [
    {
      "cell_type": "markdown",
      "metadata": {
        "id": "1bRxWHr5e8kt"
      },
      "source": [
        "# **Курс \"Програмування на мові Python\"**\n",
        "\n",
        "##### Викладачі:\n",
        "##### Борисенко Павло Борисович\n",
        "##### Щьоголєв Максим Олегович"
      ]
    },
    {
      "cell_type": "markdown",
      "metadata": {
        "id": "buZUwUgFe-kx"
      },
      "source": [
        "## **Практичне зайняття №3**\n",
        "### Тема: \"Перші програми на Python. Введення та виведення даних. Інструкція if\""
      ]
    },
    {
      "cell_type": "markdown",
      "metadata": {
        "id": "PUkxEn8EfAUe"
      },
      "source": [
        "### **Завдання 1 (1,5 бали)**\n",
        "\n"
      ]
    },
    {
      "cell_type": "markdown",
      "metadata": {
        "id": "M7jjwxAvfKa2"
      },
      "source": [
        "**Написати програму введення та виведення даних про одержувача листа (посилки) за стандартами Укрпошти.**\n",
        "\n",
        "1. Усі запити на введення даних повинні супроводжуватись відповідними підказками-поясненнями (бажано англійською мовою).\n",
        "\n",
        "2. Дані мають виводитись так, як показано нижче (з урахуванням кількості рядків та послідовності даних у кожному з них).\n",
        "\n",
        "3. Дані, виділені жирним шрифтом, повинні вводитись із клавіатури. Всього має бути 9 окремих команд введення даних\n",
        "\n",
        "4. Назви змінних повинні бути інформативними та оформленими відповідно до правил іменування змінних\n",
        "\n",
        "5. Додати 2 коментарі, що вказують на блоки введення та виведення даних.\n",
        "\n",
        "***Формат виведення даних:***\n",
        "\n",
        "(1) **Ім'я** (2) **Прізвище**\n",
        "\n",
        "(3) **Номер телефону**\n",
        "\n",
        "Str. (4) **Назва вулиці** (5) **Номер будинку**, ap. (6) **Номер квартири**, (7) **Місто**\n",
        "\n",
        "(8) **Індекс**\n",
        "\n",
        "(9) **Країна**"
      ]
    },
    {
      "cell_type": "code",
      "metadata": {
        "id": "hEJG5C3_fJk9"
      },
      "source": [
        "#input unit\n",
        "name = str(input(\"Enter name: \"))\n",
        "sername = str(input(\"Enter sername: \"))\n",
        "phone = int(input(\"Enter phone number: \"))\n",
        "street = str(input(\"Enter name of the street: \"))\n",
        "house_num = int(input(\"Enter house number: \"))\n",
        "flat_num = int(input(\"Enter flat number: \"))\n",
        "city = str(input(\"Enter name of the city: \"))\n",
        "index = int(input(\"Enter index: \"))\n",
        "country = str(input(\"Enter name of the country: \"))\n",
        "#output unit\n",
        "print(name,sername)\n",
        "print(phone)\n",
        "print(street, house_num, flat_num, city)\n",
        "print(index)\n",
        "print(country)\n"
      ],
      "execution_count": null,
      "outputs": []
    },
    {
      "cell_type": "markdown",
      "metadata": {
        "id": "WmnpKrmPf689"
      },
      "source": [
        "### **Завдання 2 (1,5 бали)**"
      ]
    },
    {
      "source": [
        "Відповідно до чинної системи оцінювання в КПІ, рейтингові бали R студентів переводяться в оцінки за такою таблицею:\n",
        "\n",
        "R | Grade\n",
        "--- | ---\n",
        "95 - 100 | Excellent\n",
        "85 - 94 | Very good\n",
        "75 - 84 | Good\n",
        "65 - 74 | Satisfactory\n",
        "60 - 64 | Marginal\n",
        "0 - 59 | Unsatisfactory\n",
        "\n",
        "Напишіть програму, яка буде зчитувати рейтинговий бал R, введений користувачем, та виводити відповідну оцінку як частину змістовного повідомлення. Наприклад, якщо користувач вводить рейтинговий бал R 78, ваша програма повинна показати оцінку Good. Програма також повинна виводити повідомлення про помилку, якщо користувач введе від'ємне число або число, більше за 100."
      ],
      "cell_type": "code",
      "metadata": {
        "id": "4n4p_pz7gFKM"
      },
      "execution_count": null,
      "outputs": []
    },
    {
      "cell_type": "code",
      "execution_count": null,
      "metadata": {},
      "outputs": [],
      "source": [
        "mark = int(input(\"Enter your mark from 0 to 100: \"))\n",
        "if (mark >= 95) and (mark <= 100):\n",
        "    print(\"Excellent\")\n",
        "elif (mark >= 85) and (mark <= 94):\n",
        "    print(\"Very good\")\n",
        "elif (mark >= 75) and (mark <= 84):\n",
        "    print(\"Good\")\n",
        "elif (mark >= 65) and (mark <= 74):\n",
        "    print(\"Satisfactory\")\n",
        "elif (mark >= 60) and (mark <= 64):\n",
        "    print(\"Marginal\")\n",
        "elif (mark >= 0) and (mark <= 59):\n",
        "    print(\"Unsatisfactory\")\n",
        "else:\n",
        "    print(\"Error, incorrectly entered information\")"
      ]
    },
    {
      "source": [
        "### **Завдання 3 (бонусне, 1 бал)**"
      ],
      "cell_type": "code",
      "metadata": {
        "id": "X8fC_GM_nMRi"
      },
      "execution_count": null,
      "outputs": []
    },
    {
      "source": [
        "Часто говорять, що один календарний рік еквівалентний 7 рокам для собаки. Однак таке просте перетворення не враховує того, що собаки досягають повноліття приблизно у 2 роки. Тому деякі люди вважать, що краще рахувати кожен з перших двох календарних років як 10,5 років для собаки, а потім рахувати кожен наступний календарний рік як 4 роки для собаки.\n",
        "\n",
        "Напишіть програму, яка конвертує календарні роки у \"собачі\", як було показано в попередньому абзаці. Переконайтесь, що ваша програма працює правильно, конвертуючи перші два календарні роки та всі подальші. Ваша програма також повинна виводити повідомлення про помилку, якщо користувач введе від'ємне число."
      ],
      "cell_type": "code",
      "metadata": {
        "id": "b593txPwotgN"
      },
      "execution_count": null,
      "outputs": []
    },
    {
      "cell_type": "code",
      "metadata": {
        "id": "PA_E_H0Zosu0"
      },
      "source": [
        "#Data entry\n",
        "years = int(input(\"Enter years: \"))\n",
        "#Check conditions\n",
        "if years >= 0:\n",
        "    result = (years - 2) * 4 + 21\n",
        "    print(result)\n",
        "else:\n",
        "    print(\"Error, incorrectly entered information\")"
      ],
      "execution_count": null,
      "outputs": []
    }
  ]
}