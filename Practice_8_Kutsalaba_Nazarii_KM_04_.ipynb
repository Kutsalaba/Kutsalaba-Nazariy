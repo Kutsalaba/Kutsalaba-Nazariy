{
  "nbformat": 4,
  "nbformat_minor": 0,
  "metadata": {
    "colab": {
      "name": "Practice_7_KM-01_.ipynb",
      "provenance": [],
      "collapsed_sections": []
    },
    "kernelspec": {
      "name": "python3",
      "display_name": "Python 3"
    }
  },
  "cells": [
    {
      "cell_type": "markdown",
      "metadata": {
        "id": "FMqboNwO4rVs"
      },
      "source": [
        "# **Курс \"Програмування на мові Python\"**\n",
        "\n",
        "##### Викладачі:\n",
        "##### Борисенко Павло Борисович\n",
        "##### Щьоголєв Максим Олегович\n"
      ]
    },
    {
      "cell_type": "markdown",
      "metadata": {
        "id": "A2T6MigL5Z06"
      },
      "source": [
        "## **Практичне зайняття №8**\n",
        "\n",
        "### Тема: \"Робота з функціями. Локальні та глобальні змінні\""
      ]
    },
    {
      "cell_type": "markdown",
      "metadata": {
        "id": "cfCdgK2zXm7e"
      },
      "source": [
        "### **Завдання 1 (3 бали)**\n",
        "\n",
        "**Підрахувати визначник матриці, використовуючи правило перестановок.**\n",
        "\n",
        "Функція random_matrix() призначена для створення квадратної матриці випадкових чисел. Її змінювати непотрібно.\n",
        "\n",
        "Приклад використання методу permutations() для створення списку перестановок також подається у комірці з кодом.\n",
        "\n",
        "1) Створити 3 функції: функцію створення списку перестановок, функцію підрахунку добутків та функцію підрахунку загальної суми.\n",
        "\n",
        "2) Кожна функція має супроводжуватись рядком документації, що буде коротко описувати її призначення.\n",
        "\n",
        "3) Розмірність квадратної матриці має вводитись користувачем з клавіатури. Підрахунки виконувати лише в тому разі, якщо користувач введе ціле додатне число.\n",
        "\n",
        "4) Загальний результат повинен підраховуватись за допомогою композиції функцій.\n",
        "\n",
        "За бажання можна перевірити правильність роботи програми за допомогою функції np.linalg.det(a)."
      ]
    },
    {
      "cell_type": "code",
      "metadata": {
        "id": "ifNX2M7LXm7f"
      },
      "source": [
        "import numpy as np\n",
        "import itertools\n",
        "import numpy\n",
        "\n",
        "\n",
        "def random_matrix(dim):\n",
        "    \"\"\"\n",
        "    The function generates dim x dim array of integers\n",
        "    between 0 and 10.\n",
        "    \"\"\"\n",
        "    try:\n",
        "        dim = int(input(\"Введіть розмірність матриці: \"))\n",
        "        if 1<= dim:\n",
        "            matrix = np.random.randint(10, size = (dim, dim))\n",
        "            return matrix\n",
        "        else:\n",
        "            raise ValueError\n",
        "    except ValueError:\n",
        "        print(\"Введений неправильний тип даних\")\n",
        "        return random_matrix(dim)\n",
        "c = random_matrix(0)\n",
        "print(c)\n",
        "\n",
        "\n",
        "def permutat(t):\n",
        "    last = ''\n",
        "    for i in range(len(c)):\n",
        "        last += str(i)\n",
        "    t = list(itertools.permutations(last, len(last)))\n",
        "    return t\n",
        "x = permutat(0)\n",
        "\n",
        "ware = numpy.array(x).astype(int).tolist()\n",
        "print(numpy.array(x).astype(int).tolist())\n",
        "\n",
        "print(\"Кількість \", len(ware))\n",
        "\n",
        "def rop():\n",
        "    lst = []\n",
        "    n = 1\n",
        "    v = 1\n",
        "    for n in range(len(ware)):\n",
        "        j, k = 0, 0\n",
        "        for i in range(len(ware[n])):\n",
        "            if ware[0][j] == ware[n][k]:\n",
        "                lst.append(0)\n",
        "            else:\n",
        "                pass\n",
        "            j += 1\n",
        "            k += 1\n",
        "    print(lst)\n",
        "rop()"
      ],
      "execution_count": null,
      "outputs": []
    }
  ]
}