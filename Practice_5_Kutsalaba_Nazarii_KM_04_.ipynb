{
  "nbformat": 4,
  "nbformat_minor": 0,
  "metadata": {
    "colab": {
      "name": "Practice_5_KM_04_.ipynb",
      "provenance": [],
      "collapsed_sections": []
    },
    "kernelspec": {
      "name": "python3",
      "display_name": "Python 3"
    }
  },
  "cells": [
    {
      "cell_type": "markdown",
      "metadata": {
        "id": "FMqboNwO4rVs"
      },
      "source": [
        "# **Курс \"Програмування на мові Python\"**\n",
        "\n",
        "##### Викладачі:\n",
        "##### Борисенко Павло Борисович\n",
        "##### Щьоголєв Максим Олегович\n"
      ]
    },
    {
      "cell_type": "markdown",
      "metadata": {
        "id": "A2T6MigL5Z06"
      },
      "source": [
        "## **Практичне зайняття №5**\n",
        "### Тема: \"Робота з кортежами, множинами та словниками\""
      ]
    },
    {
      "cell_type": "markdown",
      "metadata": {
        "id": "4AV5CN7N4xja"
      },
      "source": [
        "### **Завдання 1 (1,5 бали)**\n",
        "\n",
        "Напишіть програму, яка визначала б, чи можна з літер однієї фрази скласти іншу фразу. Наприклад:\n",
        "\n",
        "\"William Shakespeare\" -> \"A small spark\"\n",
        "\n",
        "Перша фраза містить 11 унікальних літер (хоча деякі повторюються): a, e, h, i, k, l, m, p, r, s та w. Друга фраза містить 7 унікальних літер: a, k, l, m, p, r та s. Кожна з літер другої фрази зустрічається принаймні один раз у першій фразі.\n",
        "\n",
        "1. Обидві фрази повинні вводитись користувачем з клавіатури.\n",
        "\n",
        "2. Скористайтесь властивістю множин у мові програмування Python для виділення колекції унікальних літер.\n",
        "\n",
        "3. У множину не повинні потрапити пробіли, розділові знаки та інші символи, що не є літерами (скористайтесь методом **isalpha()**). Також усі літери мають бути переведені в нижній або верхній регістр (скористайтесь методами **lower()** або **upper()**).\n",
        "\n",
        "4. Зверніть увагу на те, що літери як в першій, так і вдругій фразі можуть повторюватись. Однак множина унікальних літер другої фрази повинна бути підмножиною множини унікальних літер першої фрази.\n",
        "\n",
        "5. У складі змістовного повідомлення програма повинна виводити множину літер першої фрази, множину літер другої фрази, а також змістовне повідомлення про те, чи можна скласти з літер першої фрази другу фразу."
      ]
    },
    {
      "cell_type": "code",
      "metadata": {
        "id": "9Mesp1jV4xjb"
      },
      "source": [
        "#The next block of code checks the input adds elements to the set.\n",
        "def ren():\n",
        "    global mnoz1\n",
        "    mnoz1 = {0}\n",
        "    text1 = input(\"Enter a set of letters or words: \")\n",
        "    for char in text1:\n",
        "        if char.isspace() or char.isalpha():\n",
        "            if char.isspace():\n",
        "                pass\n",
        "            else:\n",
        "                mnoz1.add(char.lower())\n",
        "        else:\n",
        "            print(\"Error, enter data again\")\n",
        "            return ren()\n",
        "ren()\n",
        "#The next block of code checks the input adds elements to the set.\n",
        "def ven():\n",
        "    global mnoz2\n",
        "    mnoz2 = {0}\n",
        "    text2 = input(\"Enter a set of letters or words: \")\n",
        "    for cha in text2:\n",
        "        if cha.isspace() or cha.isalpha():\n",
        "            if cha.isspace():\n",
        "                pass\n",
        "            else:\n",
        "                mnoz2.add(cha.lower())\n",
        "        else:\n",
        "            print(\"Error, enter data again\")\n",
        "            return ven()\n",
        "ven()\n",
        "#The next block of code checks the set for the presence of another and outputs the result\n",
        "def res():\n",
        "    mnoz2.discard(0)\n",
        "    mnoz1.discard(0)\n",
        "    print(mnoz1,mnoz2)\n",
        "    check = mnoz1.issuperset(mnoz2)\n",
        "    print(check,\",you can make the second sentence from the letters of the first phrase.\")\n",
        "res()\n",
        "#I think this code is quite long, I wrote it so that there was no possibility of identical works"
      ],
      "execution_count": null,
      "outputs": []
    },
    {
      "cell_type": "markdown",
      "metadata": {
        "id": "y7pQFLvSCkym"
      },
      "source": [
        "### **Завдання 2 (1,5 бали)**\n",
        "\n",
        "У Канаді поштові індекси мають специфічну форму. Вони складаються з трьох символів. Перший символ вказує на провінцію. Другий символ вказує на те, у міській чи у сільській місцевості знаходиться адресат. Якщо у сільській місцевості - це 0. Якщо у міській - будь-яка інша цифра. Провінція позначається великою латинською літерою. Повний перелік провінцій на літер, що їм відповідають, подано у таблиці.\n",
        "\n",
        "Провінція | Перший символ поштового індекса\n",
        "--- | ---\n",
        "Newfoundland | A\n",
        "Nova Scotia | B\n",
        "Prince Edward Island | C\n",
        "New Brunswick | E\n",
        "Quebec | G, H and J\n",
        "Ontario | K, L, M, N and P\n",
        "Manitoba | R\n",
        "Saskatchewan | S\n",
        "Alberta | T\n",
        "British Columbia | V\n",
        "Nunavut | X\n",
        "Northwest Territories | X\n",
        "Yukon | Y\n",
        "\n",
        "Напишіть програму, яка зчитує поштовий індекс, введений користувачем, та виводить у складі змістовного повідомлення провінцію адресата та інформацію про те, у міській чи у сільській місцевості він знаходиться. Наприклад, якщо користувач вводить T2N, програма повинна визначити, що адресат знаходиться у міській місцевості провінції Альберта. Якщо він вводить X0A, адресат знаходиться у сільській місцевості провінції Нанавут або Північних Територій (зверніть увагу на те, що літера X повторюється для двох провінцій). Третя літера для нас неважлива. Зауважте, що літери D, F, I, O, Q, U, W, та Z не позначають жодної з провінцій Канади.\n",
        "\n",
        "1. Скористайтесь словником для збереження усіх провінцій та літер, що їм відповідають.\n",
        "\n",
        "2. Користувач повинен ввести рівно 3 символи. Перший і останній символи мають бути літерами, другий - цифрою. Для перевірки скористайтесь методами **isalpha()** та **isdigit()**. Якщо користувач введе не 3 символи, а більше чи менше, або ж послідовність літер та цифр не буде співпадати з шаблоном, програма має вивести повідомлення про помилку.\n",
        "\n",
        "3. Програма повинна приймати літери як верхнього, так і нижнього регістрів. Однак виводити - лише у верхньому регістрі (скористайтесь методами **lower()** або **upper()**)."
      ]
    },
    {
      "cell_type": "code",
      "metadata": {
        "id": "EVY800vg4xjg"
      },
      "source": [
        "def ren():\n",
        "    canada = {'A': \"Newfoundland\", \"B\": \"Nova Scotia\", \"C\": \"Prince Edward Island\", \"E\": \"New Brunswick\",\n",
        "              \"G\": \"Quebec\", \"H\": \"Quebec\", \"J\": \"Quebec\", \"K\": \"Ontario\", \"L\": \"Ontario\",\n",
        "              \"M\": \"Ontario\", \"N\": \"Ontario\", \"P\": \"Ontario\", \"R\": \"Manitoba\", \"S\": \"Saskatchewan\",\n",
        "              \"T\": \"Alberta\", \"V\": \"British Columbia\", \"X\": \"Nunavut\", \"X\": \"Northwest Territories\", \"Y\": \"Yukon\",\n",
        "              'a': \"Newfoundland\", \"b\": \"Nova Scotia\", \"c\": \"Prince Edward Island\", \"e\": \"New Brunswick\",\n",
        "              \"g\": \"Quebec\", \"h\": \"Quebec\", \"j\": \"Quebec\", \"k\": \"Ontario\", \"l\": \"Ontario\",\n",
        "              \"m\": \"Ontario\", \"n\": \"Ontario\", \"p\": \"Ontario\", \"r\": \"Manitoba\", \"s\": \"Saskatchewan\",\n",
        "              \"t\": \"Alberta\", \"v\": \"British Columbia\", \"x\": \"Nunavut\", \"x\": \"Northwest Territories\", \"y\": \"Yukon\"}\n",
        "    text = input(\"Enter the index: \")\n",
        "    text = ''.join(text.split(' '))\n",
        "#Check unit\n",
        "    \n",
        "    if len(text) == 3:\n",
        "        if text[0].isalpha() and text[0] not in ['D','F','I','O','Q','U','W','Z','d','f','i','o','q','u','w','z',]:\n",
        "            if text[1].isdigit():\n",
        "                if text[-1].isalpha():\n",
        "                    if text[0] == \"x\" or text[0] == \"X\":\n",
        "                        print(\"Province: Nunavut and Northwest Territories\")\n",
        "                    else:\n",
        "                        print('Province:', canada.get(text[0], ))\n",
        "                else:\n",
        "                    print(\"Error, enter data again\")\n",
        "                    return ren()\n",
        "            else:\n",
        "                print(\"Error, enter data again\")\n",
        "                return ren()\n",
        "        else:\n",
        "            print(\"Error, enter data again\")\n",
        "            return ren()\n",
        "    else:\n",
        "        print(\"Error, enter data again\")\n",
        "        return ren()\n",
        "    if int(text[1]) != 0:\n",
        "        print('You live in an urban area')\n",
        "    else:\n",
        "        print('You live in the countryside')\n",
        "ren()"
      ],
      "execution_count": null,
      "outputs": []
    }
  ]
}