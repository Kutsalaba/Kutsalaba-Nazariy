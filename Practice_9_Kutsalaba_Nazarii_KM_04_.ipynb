{
  "nbformat": 4,
  "nbformat_minor": 0,
  "metadata": {
    "colab": {
      "name": "Practice_7_KM-01_.ipynb",
      "provenance": [],
      "collapsed_sections": []
    },
    "kernelspec": {
      "name": "python3",
      "display_name": "Python 3"
    }
  },
  "cells": [
    {
      "cell_type": "markdown",
      "metadata": {
        "id": "FMqboNwO4rVs"
      },
      "source": [
        "# **Курс \"Програмування на мові Python\"**\n",
        "\n",
        "##### Викладачі:\n",
        "##### Борисенко Павло Борисович\n",
        "##### Щьоголєв Максим Олегович\n"
      ]
    },
    {
      "cell_type": "markdown",
      "metadata": {
        "id": "A2T6MigL5Z06"
      },
      "source": [
        "## **Практичне зайняття №9**\n",
        "\n",
        "### Тема: \"Лямбда-функції. Функції вищих порядків\""
      ]
    },
    {
      "cell_type": "markdown",
      "metadata": {
        "id": "cfCdgK2zXm7e"
      },
      "source": [
        "### **Завдання 1 (1 бал)**\n",
        "\n",
        "Керівництво будівельної компанії вирішило підняти заробітні плати всім своїм працівникам на 30%. В залежності від спеціалізації та стажу працівники мають різну заробітну плату. Для підготовки звіту необхідно розрахувати нову заробітну плату для працівників компанії, а також суму індексації.\n",
        "\n",
        "Написати програму, яка буде генерувати таблицю для цього звіту. Початкова заробітна плата працівників подана у списку salary_list (у тисячах гривень). \n",
        "\n",
        "1. Для підрахунку невідомих значень повинні використовуватись вбудовані функції вищих порядків.\n",
        "\n",
        "2. Зарплата після індексації та сума індексації для працівників різних категорій повинні зберігатись у двох окремих списках. Порядок значень у кожному з нових списків повинен відповідати порядку значень у списку salary_list.\n",
        "\n",
        "3. Кожне підраховане числове значення має бути округлене до сотих.\n",
        "\n",
        "4. Дані повинні виводитись у вигляді:\n",
        "\n",
        "**Salary table:**\n",
        "\n",
        "**7.3 9.49 2.19**\n",
        "\n",
        "**8.5 11.05 2.55**\n",
        "\n",
        "**...**\n",
        "\n",
        "salary_list = [[7.3, 8.5, 11, 12.7, 15.2, 21.12, 27.35]]"
      ]
    },
    {
      "cell_type": "code",
      "metadata": {
        "id": "ifNX2M7LXm7f"
      },
      "source": [
        "# Import modules\n",
        "import numpy as np\n",
        "\n",
        "# Сreating lists\n",
        "salary_list = [7.3, 8.5, 11, 12.7, 15.2, 21.12, 27.35]\n",
        "new_salary_list = np.around(list(map(lambda i: i * 1.3, salary_list)),2)\n",
        "index_salary_list = np.around(list(map(lambda x, y: x - y, new_salary_list,salary_list)),2)\n",
        "\n",
        "# Output table\n",
        "print(\"  Salary table: \")\n",
        "for i in range(len(salary_list)):\n",
        "    print(salary_list[i], new_salary_list[i],index_salary_list[i])"
      ],
      "execution_count": null,
      "outputs": []
    },
    {
      "source": [
        "### **Завдання 2 (2 бали)**\n",
        "\n",
        "Зазвичай рік має 365 днів. Однак у високосні роки додається ще один день - 29 лютого. Правила визначення високосного року такі:\n",
        "\n",
        "- Будь-який рік, що ділиться на 400 - високосний.\n",
        "\n",
        "- З тих років, що залишились, будь-який рік, що ділиться на 100 - **не** високосний.\n",
        "\n",
        "- З тих років, що залишились, будь-який рік, що ділиться на 4 - високосний.\n",
        "\n",
        "- Усі інші роки, що залишились - **не** високосні.\n",
        "\n",
        "1) Створіть функцію, в якій за допомогою вбудованих функцій вищих порядків будуть визначатися високосні роки серед перелічених років у списку years. Створена функція має повертати список високосних років.\n",
        "\n",
        "2) Створіть функцію вищих порядків, яка прийматиме на вхід попередню функцію та визначатиме кількість днів у місяці. Також функція повинна приймати на вхід ще 2 параметри: ціле число від 1 до 12 (місяць) та рік, як ціле чотирицифрове число. Ці значення корисувач має вводити з клавіатури. Перевірку введених даних слід виконувати поза межами функцій."
      ],
      "cell_type": "markdown",
      "metadata": {}
    },
    {
      "cell_type": "code",
      "execution_count": null,
      "metadata": {},
      "outputs": [],
      "source": [
        "# Import\n",
        "import numpy as np\n",
        "\n",
        "# Initial variables\n",
        "years = np.arange(1900, 2020+1, 1)\n",
        "num_list = [4,6,9,11]\n",
        "\n",
        "\n",
        "def get_leap_years():\n",
        "    '''This function generates a list of leap years and returns it '''\n",
        "\n",
        "    processing_1 = list(filter(lambda i: i % 400 != 0, years))\n",
        "    processing_2 = list(filter(lambda i: i % 400 == 0, years))\n",
        "    processing_3 = list(filter(lambda i: i % 100 != 0, processing_1))\n",
        "    processing_4 = list(filter(lambda i: i % 4 == 0, processing_3))\n",
        "\n",
        "    return sorted(processing_2 + processing_4)\n",
        "\n",
        "\n",
        "def check_months():\n",
        "    '''This function checks the correctness of the month entry.'''\n",
        "\n",
        "    try:\n",
        "        vid_1 = int(input(\"Enter the month number: \"))\n",
        "        if 1 <= vid_1 <= 12:\n",
        "            return vid_1\n",
        "        else:\n",
        "            raise ValueError\n",
        "    except ValueError:\n",
        "        print(\"Error, enter correct data\")\n",
        "        return check_months()\n",
        "\n",
        "\n",
        "def check_years(complete):\n",
        "    '''This function checks the correctness of the year entry.'''\n",
        "\n",
        "    try:\n",
        "        vid_2 = int(input(\"Enter the years: \"))\n",
        "        if len(list(filter(lambda i: i % vid_2 == 0, complete))) != 1 :\n",
        "            raise ValueError\n",
        "        else:\n",
        "            return vid_2\n",
        "    except ValueError:\n",
        "        print(\"Error, enter correct data\")\n",
        "        return check_years(complete)\n",
        "\n",
        "\n",
        "def perfect(num_month, number_years):\n",
        "    '''This function displays the result of the program.'''\n",
        "\n",
        "    if num_month == 2:\n",
        "        rand = 29\n",
        "    elif len(list(filter(lambda i: i % num_month == 0, num_list))) != 1:\n",
        "        rand = 31\n",
        "    else:\n",
        "        rand = 30\n",
        "    print(f\"Year: {number_years}. Month: {num_month}. Number of days: {rand}\")\n",
        "\n",
        "perfect(check_months(),check_years(get_leap_years()))"
      ]
    }
  ]
}