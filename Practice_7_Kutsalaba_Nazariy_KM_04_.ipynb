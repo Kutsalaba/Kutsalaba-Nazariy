{
  "nbformat": 4,
  "nbformat_minor": 0,
  "metadata": {
    "colab": {
      "name": "Practice_7_KM-01_.ipynb",
      "provenance": [],
      "collapsed_sections": []
    },
    "kernelspec": {
      "name": "python3",
      "display_name": "Python 3"
    }
  },
  "cells": [
    {
      "cell_type": "markdown",
      "metadata": {
        "id": "FMqboNwO4rVs"
      },
      "source": [
        "# **Курс \"Програмування на мові Python\"**\n",
        "\n",
        "##### Викладачі:\n",
        "##### Борисенко Павло Борисович\n",
        "##### Щьоголєв Максим Олегович\n"
      ]
    },
    {
      "cell_type": "markdown",
      "metadata": {
        "id": "A2T6MigL5Z06"
      },
      "source": [
        "## **Практичне зайняття №7**\n",
        "\n",
        "### Тема: \"Перевірка даних. Робота з виключеннями. Регулярні вирази\""
      ]
    },
    {
      "cell_type": "markdown",
      "metadata": {
        "id": "cfCdgK2zXm7e"
      },
      "source": [
        "### **Завдання 1 (1,5 бали)**\n",
        "\n",
        "Переробити завдання №1 практичної роботи №6 з використанням регулярних виразів.\n",
        "\n",
        "1. Створити шаблон регулярного виразу.\n",
        "\n",
        "2. За допомогою функції compile() створити об'єкт регулярного виразу.\n",
        "\n",
        "3. Всі інші вимоги залишаються такими ж, як і в оригінальному завданні."
      ]
    },
    {
      "cell_type": "code",
      "metadata": {
        "id": "ifNX2M7LXm7f"
      },
      "source": [
        "#Import library re and numpy\n",
        "import re\n",
        "import numpy\n",
        "\n",
        "pose_estimation =\"[BodyPart:0-(0.55, 0.17) score=0.81 BodyPart:1-(0.49, 0.27) score=0.85 BodyPart:2-(0.41, 0.26) score=0.67 ' \\\n",
        "      'BodyPart:3-(0.33, 0.37) score=0.72 BodyPart:4-(0.36, 0.48) score=0.78 BodyPart:5-(0.58, 0.27) score=0.81 ' \\\n",
        "      'BodyPart:6-(0.65, 0.38) score=0.88 BodyPart:7-(0.62, 0.48) score=0.86 BodyPart:8-(0.43, 0.48) score=0.60 ' \\\n",
        "      'BodyPart:9-(0.43, 0.66) score=0.67 BodyPart:10-(0.53, 0.79) score=0.56 BodyPart:11-(0.53, 0.48) score=0.56 ' \\\n",
        "      'BodyPart:12-(0.59, 0.66) score=0.75 BodyPart:13-(0.49, 0.80) score=0.50 BodyPart:14-(0.54, 0.15) score=0.73 ' \\\n",
        "      'BodyPart:15-(0.56, 0.15) score=0.85 BodyPart:16-(0.48, 0.16) score=0.81 BodyPart:17-(0.83, 0.18) score=0.79]\"\n",
        "\n",
        "#The next three lines could be written in one line (points = re.findall('[0-9.]{4}', pose_estimation),\n",
        "#But in the task it is necessary to use function compile(), so here so\n",
        "line1 = r'[0-9.]{4}'\n",
        "repatern = re.compile(line1)\n",
        "points = repatern.findall(pose_estimation)\n",
        "n = 2\n",
        "score = []\n",
        "\n",
        "#Add items to the list\n",
        "for i in range((len(points))//3):\n",
        "    score.append(points[n])\n",
        "    n += 3\n",
        "del points[2::3]\n",
        "\n",
        "#Output of the results\n",
        "print(numpy.array(points).astype(float).tolist())\n",
        "print(numpy.array(score).astype(float).tolist())"
      ],
      "execution_count": 2,
      "outputs": []
    },
    {
      "cell_type": "markdown",
      "metadata": {
        "id": "M1Sg0vXJXm7n"
      },
      "source": [
        "### **Завдання 2 (1,5 бали)**\n",
        "\n",
        "Написати програму підрахунку коренів квадратного рівняння без попередніх перевірок.\n",
        "\n",
        "1. Користувач має вводити коефіцієнти a, b та c з клавіатури.\n",
        "\n",
        "2. Програма має обробляти помилки ділення на 0, кореня від'ємного числа та інші, а також виводити відповідні повідомлення у разі виникнення таких помилок.\n",
        "\n",
        "3. Якщо рівняння не має коренів, программа має генерувати помилку за допомогою ключового слова raise, а потім обробляти її.\n",
        "\n",
        "4. Правильно написана програма при виникненні різних помилок має виводити текст помилки, а також різні повідомлення про те, в чому суть цих помилок. Необроблених помилок бути не повинно."
      ]
    },
    {
      "cell_type": "code",
      "metadata": {
        "id": "co7fcAuvXm7o"
      },
      "source": [
        "#Import the function for reading the square root from the library math\n",
        "from math import sqrt\n",
        "\n",
        "#Catching errors related to the coefficient a\n",
        "try:\n",
        "    a = float(input('Enter a: '))\n",
        "    if a == 0:\n",
        "        raise ZeroDivisionError(\"ZeroDivisionError: the denominator cannot be equal to 0\")\n",
        "except ValueError as te:\n",
        "    print(\"ValueError: \" f'{te}')\n",
        "except ZeroDivisionError as he:\n",
        "    print(he)\n",
        "\n",
        "#Catching errors related to the coefficients b\n",
        "try:\n",
        "    b = float(input(\"Enter b: \"))\n",
        "except ValueError as te:\n",
        "    print(\"ValueError: \" f'{te}')\n",
        "\n",
        "#Catching errors related to the coefficient c\n",
        "try:\n",
        "    c = float(input(\"Enter c: \"))\n",
        "except ValueError as te:\n",
        "    print(\"ValueError: \" f'{te}')\n",
        "\n",
        "#Catching errors related to the discriminant and finding variables of a certain type. Output of the result\n",
        "try:\n",
        "    d = float((b**2-4*a*c))\n",
        "    if d < 0:\n",
        "        raise ValueError('The equation has no roots')\n",
        "    elif d == 0:\n",
        "        x_3 = (-1*b)/(2*a)\n",
        "        print(\"The equation has one root: x =\",x_3)\n",
        "    else:\n",
        "        x_1 = (-1*b + sqrt(d))/(2*a)\n",
        "        print(\"The first root of the equation is equal to\",round(x_1,3))\n",
        "        x_2 = (-1*b - sqrt(d))/(2*a)\n",
        "        print(\"The first root of the equation is equal to\",round(x_2,3))\n",
        "except ValueError as te:\n",
        "    print(\"ValueError: \" f'{te}')\n",
        "except NameError:\n",
        "    print(\"NameError: no such variable names found\")"
      ],
      "execution_count": 4,
      "outputs": []
    }
  ]
}